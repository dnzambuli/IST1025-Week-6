{
 "cells": [
  {
   "cell_type": "markdown",
   "id": "7cd55c0f",
   "metadata": {},
   "source": [
    "# Control structures\n",
    "\n",
    "### Definition \n",
    "**Control structures** are just a way to specify flow of control in programs. \n",
    "\n",
    "It basically analyzes and chooses in which direction a program flows based on certain parameters or conditions.\n",
    "\n",
    "### Types of control structures\n",
    "-    Sequence logic, or sequential flow\n",
    "-   Selection logic, or conditional flow\n",
    "-   Iteration logic, or repetitive flow\n",
    "\n",
    "#### 1. Sequence\n",
    "Sequential logic as the name suggests follows a serial or sequential flow in which the flow depends on the series of instructions given to the computer. Unless new instructions are given, the modules are executed in the obvious sequence. \n",
    "example ```switch``` in c/c++\n",
    "\n",
    "#### 2. Selection\n",
    "Selection Logic simply involves a number of conditions or parameters which decides one out of several written modules. The structures which use these type of logic are known as **Conditional Structures**. \n",
    "\n",
    "examples are:\n",
    "\n",
    "- Single Alternative\n",
    "```python\n",
    "if True:\n",
    "    print('This is a single alternative')\n",
    "print('This is out of condition')\n",
    "```\n",
    "\n",
    "### Task\n",
    "- write a program to enter three marks\n",
    "- find the average of the marks\n",
    "- include an if to check if the marks average is above 50\n",
    "- if not print \"you have failed\""
   ]
  },
  {
   "cell_type": "code",
   "execution_count": 2,
   "id": "264c37e3",
   "metadata": {},
   "outputs": [
    {
     "name": "stdout",
     "output_type": "stream",
     "text": [
      "Enter the first mark: 20\n",
      "Enter the second mark: 25\n",
      "Enter the third mark: 30\n",
      "average score is 25.0\n",
      "You have failed\n"
     ]
    }
   ],
   "source": [
    "# program for if conditional\n",
    "a = int(input(\"Enter the first mark: \"))\n",
    "b = int(input(\"Enter the second mark: \"))\n",
    "c = int(input(\"Enter the third mark: \"))\n",
    "marks = (a, b, c)\n",
    "average = sum(marks) / 3\n",
    "\n",
    "print(f'average score is {average}')\n",
    "\n",
    "if average < 50:\n",
    "    print('You have failed')"
   ]
  },
  {
   "cell_type": "code",
   "execution_count": null,
   "id": "4f23cf46",
   "metadata": {},
   "outputs": [],
   "source": []
  }
 ],
 "metadata": {
  "kernelspec": {
   "display_name": "Python 3 (ipykernel)",
   "language": "python",
   "name": "python3"
  },
  "language_info": {
   "codemirror_mode": {
    "name": "ipython",
    "version": 3
   },
   "file_extension": ".py",
   "mimetype": "text/x-python",
   "name": "python",
   "nbconvert_exporter": "python",
   "pygments_lexer": "ipython3",
   "version": "3.9.7"
  }
 },
 "nbformat": 4,
 "nbformat_minor": 5
}
