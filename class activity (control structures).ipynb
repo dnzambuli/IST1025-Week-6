{
 "cells": [
  {
   "cell_type": "markdown",
   "id": "d241f9de",
   "metadata": {},
   "source": [
    "# Control structures\n",
    "\n",
    "### Definition \n",
    "**Control structures** are just a way to specify flow of control in programs. \n",
    "\n",
    "It basically analyzes and chooses in which direction a program flows based on certain parameters or conditions.\n",
    "\n",
    "### Types of control structures\n",
    "-    Sequence logic, or sequential flow\n",
    "-   Selection logic, or conditional flow\n",
    "-   Iteration logic, or repetitive flow\n",
    "\n",
    "#### 1. Sequence\n",
    "Sequential logic as the name suggests follows a serial or sequential flow in which the flow depends on the series of instructions given to the computer. Unless new instructions are given, the modules are executed in the obvious sequence. \n",
    "example ```go routines``` in golang\n",
    "\n",
    "#### 2. Selection\n",
    "Selection Logic simply involves a number of conditions or parameters which decides one out of several written modules. The structures which use these type of logic are known as **Conditional Structures**. \n",
    "\n",
    "examples are:\n",
    "\n",
    "- **Single Alternative**\n",
    "```python\n",
    "if True:\n",
    "    print('This is a single alternative')\n",
    "print('This is out of condition')\n",
    "```\n",
    "\n",
    "### Task\n",
    "- write a program to enter three marks\n",
    "- find the average of the marks\n",
    "- include an if to check if the marks average is above 50\n",
    "- if not print \"you have failed\""
   ]
  },
  {
   "cell_type": "code",
   "execution_count": 2,
   "id": "b9ce2c00",
   "metadata": {},
   "outputs": [
    {
     "name": "stdout",
     "output_type": "stream",
     "text": [
      "Enter the first mark: 20\n",
      "Enter the second mark: 25\n",
      "Enter the third mark: 30\n",
      "average score is 25.0\n",
      "You have failed\n"
     ]
    }
   ],
   "source": [
    "# program for if conditional\n",
    "a = int(input(\"Enter the first mark: \"))\n",
    "b = int(input(\"Enter the second mark: \"))\n",
    "c = int(input(\"Enter the third mark: \"))\n",
    "marks = (a, b, c)\n",
    "average = sum(marks) / 3\n",
    "\n",
    "print(f'average score is {average}')\n",
    "\n",
    "if average < 50:\n",
    "    print('You have failed')"
   ]
  },
  {
   "cell_type": "markdown",
   "id": "2671a457",
   "metadata": {},
   "source": [
    "- **Double Alternative**\n",
    "```python\n",
    "if True:\n",
    "    print('this happens when the condition is true')\n",
    "else:\n",
    "    print('this happens when the condition is false')\n",
    "print('this is outside the selection control')\n",
    "```\n",
    "\n",
    "### Task\n",
    "- add congratulations you have passed to the former program"
   ]
  },
  {
   "cell_type": "code",
   "execution_count": 4,
   "id": "f24e776b",
   "metadata": {},
   "outputs": [
    {
     "name": "stdout",
     "output_type": "stream",
     "text": [
      "Enter the first mark: 40\n",
      "Enter the second mark: 100\n",
      "Enter the third mark: 98\n",
      "average score is 79.333\n",
      "Congratulations you have passed\n"
     ]
    }
   ],
   "source": [
    "# program for if, else conditional\n",
    "a = int(input(\"Enter the first mark: \"))\n",
    "b = int(input(\"Enter the second mark: \"))\n",
    "c = int(input(\"Enter the third mark: \"))\n",
    "marks = (a, b, c)\n",
    "average = sum(marks) / 3\n",
    "\n",
    "print(f'average score is {round(average, 3)}')\n",
    "\n",
    "if average < 50:\n",
    "    print('You have failed')\n",
    "else:\n",
    "    print('Congratulations you have passed')"
   ]
  },
  {
   "cell_type": "markdown",
   "id": "5aa3f999",
   "metadata": {},
   "source": [
    "### Challenge \n",
    "- create a program that calculates the bmi of an individual and advices them if they are obessed or not\n",
    "\n",
    "#### selection cont'd\n",
    "- **Multiple Alternatives**\n",
    "```python\n",
    "condition1 = True\n",
    "condition2 = True\n",
    "if (condition1):\n",
    "    print('first condition is true')\n",
    "elif (condition2):\n",
    "    print('first condition failed')\n",
    "    print('second condition is true')\n",
    "else:\n",
    "    print('Both first and second failed')\n",
    "```\n",
    "    "
   ]
  },
  {
   "cell_type": "code",
   "execution_count": 9,
   "id": "8dc94c20",
   "metadata": {},
   "outputs": [
    {
     "name": "stdout",
     "output_type": "stream",
     "text": [
      "Enter your age: 40\n",
      "Congratulations life has just started\n"
     ]
    }
   ],
   "source": [
    "# checking the age group of an individual\n",
    "age = int(input(\"Enter your age: \"))\n",
    "\n",
    "if age < 10:\n",
    "    print(\"You are an infant\")\n",
    "elif age < 20:\n",
    "    print('You are a teenager Happy Birthday')\n",
    "elif age <= 30:\n",
    "    print('You are a youth')\n",
    "elif age > 30 and age < 50:\n",
    "    print('Congratulations life has just started')\n",
    "else:\n",
    "    print('You are Elderly')"
   ]
  },
  {
   "cell_type": "code",
   "execution_count": null,
   "id": "623f4b32",
   "metadata": {},
   "outputs": [
    {
     "name": "stdout",
     "output_type": "stream",
     "text": [
      "Enter your height in centimeters(cm): 189\n"
     ]
    }
   ],
   "source": [
    "# challenge attempt\n",
    "H = float(input('Enter your height in centimeters(cm): '))\n",
    "W = float(input('Enter your weight in kilograms(kg): '))\n",
    "\n",
    "# calculate the BMI = w/ h² * 10000\n",
    "BMI = W / pow(H, 2) * 10000\n",
    "\n",
    "roundedBMI = round(BMI, 1)\n",
    "\n",
    "if BMI < 18.5:\n",
    "    print('you are under weight')\n",
    "elif BMI <= 18.5 & BMI < 25:\n",
    "    print(f'you BMI is {roundedBMI} and are normal weight')\n",
    "elif BMI < 30:\n",
    "    print('watch out you are OVERWEIGHT')\n",
    "elif BMI < 35:\n",
    "    print('you have CLASS I OBESITY')\n",
    "elif BMI < 40:\n",
    "    print('you have CLASS II OBESITY')\n",
    "else:\n",
    "    print('you have CLASS III OBESITY')\n"
   ]
  },
  {
   "cell_type": "code",
   "execution_count": null,
   "id": "28c6c4a8",
   "metadata": {},
   "outputs": [],
   "source": []
  }
 ],
 "metadata": {
  "kernelspec": {
   "display_name": "Python 3 (ipykernel)",
   "language": "python",
   "name": "python3"
  },
  "language_info": {
   "codemirror_mode": {
    "name": "ipython",
    "version": 3
   },
   "file_extension": ".py",
   "mimetype": "text/x-python",
   "name": "python",
   "nbconvert_exporter": "python",
   "pygments_lexer": "ipython3",
   "version": "3.9.7"
  }
 },
 "nbformat": 4,
 "nbformat_minor": 5
}
